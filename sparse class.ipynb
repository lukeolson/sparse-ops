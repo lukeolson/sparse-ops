{
 "cells": [
  {
   "cell_type": "code",
   "execution_count": 27,
   "metadata": {},
   "outputs": [],
   "source": [
    "from scipy.sparse import csr_matrix\n",
    "import sparse\n",
    "import numpy as np\n",
    "import pyamg\n",
    "import scipy.sparse"
   ]
  },
  {
   "cell_type": "code",
   "execution_count": 28,
   "metadata": {},
   "outputs": [],
   "source": [
    "class mycsr(csr_matrix):\n",
    "    \"\"\"\n",
    "    *OpenMP Enabled*\n",
    "    \"\"\"\n",
    "    def _mul_vector(self, other):        \n",
    "        M,N = self.shape\n",
    "\n",
    "        # output array\n",
    "        result = np.zeros(M, dtype=scipy.sparse.sputils.upcast_char(self.dtype.char,\n",
    "                                                                    other.dtype.char))\n",
    "\n",
    "        # csr_matvec or csc_matvec\n",
    "        sparse.csr_matvec_omp(M, N, self.indptr, self.indices, self.data, other, result)\n",
    "\n",
    "        return result\n",
    "\n",
    "mycsr.__doc__ += csr_matrix.__doc__"
   ]
  },
  {
   "cell_type": "code",
   "execution_count": 29,
   "metadata": {},
   "outputs": [],
   "source": [
    "from timeit import default_timer as timer"
   ]
  },
  {
   "cell_type": "code",
   "execution_count": 30,
   "metadata": {},
   "outputs": [],
   "source": [
    "A = pyamg.gallery.poisson((3,3), format='csr')\n",
    "v = np.random.rand(A.shape[0])"
   ]
  },
  {
   "cell_type": "code",
   "execution_count": 31,
   "metadata": {},
   "outputs": [],
   "source": [
    "Amycsr = mycsr(A)"
   ]
  },
  {
   "cell_type": "code",
   "execution_count": 32,
   "metadata": {},
   "outputs": [],
   "source": [
    "w1 = A * v"
   ]
  },
  {
   "cell_type": "code",
   "execution_count": 33,
   "metadata": {},
   "outputs": [],
   "source": [
    "w2 = Amycsr * v"
   ]
  },
  {
   "cell_type": "code",
   "execution_count": 34,
   "metadata": {},
   "outputs": [],
   "source": [
    "np.testing.assert_array_almost_equal(w1, w2)"
   ]
  },
  {
   "cell_type": "code",
   "execution_count": 10,
   "metadata": {},
   "outputs": [],
   "source": [
    "Amycsr?"
   ]
  },
  {
   "cell_type": "code",
   "execution_count": 40,
   "metadata": {},
   "outputs": [],
   "source": [
    "np.random.seed(555)\n",
    "nx = 100\n",
    "A = pyamg.gallery.poisson((nx, nx, nx), format='csr')\n",
    "b = np.random.rand(A.shape[0])\n",
    "\n",
    "x0 = np.random.rand(A.shape[0])"
   ]
  },
  {
   "cell_type": "code",
   "execution_count": 41,
   "metadata": {},
   "outputs": [],
   "source": [
    "ml = pyamg.smoothed_aggregation_solver(A, max_coarse=10)"
   ]
  },
  {
   "cell_type": "code",
   "execution_count": 42,
   "metadata": {},
   "outputs": [
    {
     "name": "stdout",
     "output_type": "stream",
     "text": [
      "2.3374479159992916  seconds\n"
     ]
    }
   ],
   "source": [
    "t0 = timer()\n",
    "x = ml.solve(b, x0=x0, maxiter=10)\n",
    "t1 = timer()\n",
    "print(t1-t0, ' seconds')"
   ]
  },
  {
   "cell_type": "code",
   "execution_count": 43,
   "metadata": {},
   "outputs": [],
   "source": [
    "for i in range(len(ml.levels)):\n",
    "    ml.levels[i].A = mycsr(ml.levels[i].A)"
   ]
  },
  {
   "cell_type": "code",
   "execution_count": 44,
   "metadata": {},
   "outputs": [
    {
     "name": "stdout",
     "output_type": "stream",
     "text": [
      "1.419024009000168  seconds\n"
     ]
    }
   ],
   "source": [
    "t0 = timer()\n",
    "x = ml.solve(b, x0=x0, maxiter=10)\n",
    "t1 = timer()\n",
    "print(t1-t0, ' seconds')"
   ]
  },
  {
   "cell_type": "code",
   "execution_count": null,
   "metadata": {},
   "outputs": [],
   "source": []
  }
 ],
 "metadata": {
  "kernelspec": {
   "display_name": "Python 3",
   "language": "python",
   "name": "python3"
  },
  "language_info": {
   "codemirror_mode": {
    "name": "ipython",
    "version": 3
   },
   "file_extension": ".py",
   "mimetype": "text/x-python",
   "name": "python",
   "nbconvert_exporter": "python",
   "pygments_lexer": "ipython3",
   "version": "3.6.5"
  }
 },
 "nbformat": 4,
 "nbformat_minor": 2
}
