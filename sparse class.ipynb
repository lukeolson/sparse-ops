{
 "cells": [
  {
   "cell_type": "code",
   "execution_count": 1,
   "metadata": {},
   "outputs": [],
   "source": [
    "from scipy.sparse import csr_matrix\n",
    "import sparse\n",
    "import numpy as np\n",
    "import pyamg\n",
    "import scipy.sparse"
   ]
  },
  {
   "cell_type": "code",
   "execution_count": 2,
   "metadata": {},
   "outputs": [],
   "source": [
    "class mycsr(csr_matrix):\n",
    "    \"\"\"\n",
    "    *OpenMP Enabled*\n",
    "    \"\"\"\n",
    "    def _mul_vector(self, other):        \n",
    "        M,N = self.shape\n",
    "\n",
    "        # output array\n",
    "        result = np.zeros(M, dtype=scipy.sparse.sputils.upcast_char(self.dtype.char,\n",
    "                                                                    other.dtype.char))\n",
    "\n",
    "        # csr_matvec or csc_matvec\n",
    "        sparse.csr_matvec_omp(M, N, self.indptr, self.indices, self.data, other, result)\n",
    "\n",
    "        return result\n",
    "\n",
    "mycsr.__doc__ += csr_matrix.__doc__"
   ]
  },
  {
   "cell_type": "code",
   "execution_count": 3,
   "metadata": {},
   "outputs": [],
   "source": [
    "from timeit import default_timer as timer"
   ]
  },
  {
   "cell_type": "code",
   "execution_count": 4,
   "metadata": {},
   "outputs": [],
   "source": [
    "A = pyamg.gallery.poisson((3,3), format='csr')\n",
    "v = np.random.rand(A.shape[0])"
   ]
  },
  {
   "cell_type": "code",
   "execution_count": 5,
   "metadata": {},
   "outputs": [],
   "source": [
    "Amycsr = mycsr(A)"
   ]
  },
  {
   "cell_type": "code",
   "execution_count": 6,
   "metadata": {},
   "outputs": [],
   "source": [
    "w1 = A * v"
   ]
  },
  {
   "cell_type": "code",
   "execution_count": 7,
   "metadata": {},
   "outputs": [],
   "source": [
    "w2 = Amycsr * v"
   ]
  },
  {
   "cell_type": "code",
   "execution_count": 8,
   "metadata": {},
   "outputs": [],
   "source": [
    "np.testing.assert_array_almost_equal(w1, w2)"
   ]
  },
  {
   "cell_type": "code",
   "execution_count": 9,
   "metadata": {},
   "outputs": [],
   "source": [
    "Amycsr?"
   ]
  },
  {
   "cell_type": "code",
   "execution_count": 21,
   "metadata": {},
   "outputs": [],
   "source": [
    "np.random.seed(555)\n",
    "nx = 400\n",
    "\n",
    "t0 = timer()\n",
    "A = pyamg.gallery.poisson((nx, nx, nx), format='csr')\n",
    "b = np.random.rand(A.shape[0])\n",
    "x0 = np.random.rand(A.shape[0])\n",
    "t1 = timer()\n",
    "print(t1-t0, ' seconds')"
   ]
  },
  {
   "cell_type": "code",
   "execution_count": 22,
   "metadata": {},
   "outputs": [],
   "source": [
    "t0 = timer()\n",
    "ml = pyamg.smoothed_aggregation_solver(A, max_coarse=10)\n",
    "t1 = timer()\n",
    "print(t1-t0, ' seconds')"
   ]
  },
  {
   "cell_type": "code",
   "execution_count": 23,
   "metadata": {},
   "outputs": [
    {
     "name": "stdout",
     "output_type": "stream",
     "text": [
      "251.45733980834484  seconds\n"
     ]
    }
   ],
   "source": [
    "t0 = timer()\n",
    "x = ml.solve(b, x0=x0, maxiter=10)\n",
    "t1 = timer()\n",
    "print(t1-t0, ' seconds')"
   ]
  },
  {
   "cell_type": "code",
   "execution_count": 24,
   "metadata": {},
   "outputs": [
    {
     "name": "stdout",
     "output_type": "stream",
     "text": [
      "10.465544525533915  seconds\n"
     ]
    }
   ],
   "source": [
    "t0 = timer()\n",
    "for i in range(len(ml.levels)):\n",
    "    ml.levels[i].A = mycsr(ml.levels[i].A)\n",
    "t1 = timer()\n",
    "print(t1-t0, ' seconds')"
   ]
  },
  {
   "cell_type": "code",
   "execution_count": 26,
   "metadata": {},
   "outputs": [
    {
     "name": "stdout",
     "output_type": "stream",
     "text": [
      "95.59064931049943  seconds\n"
     ]
    }
   ],
   "source": [
    "t0 = timer()\n",
    "x = ml.solve(b, x0=x0, maxiter=10)\n",
    "t1 = timer()\n",
    "print(t1-t0, ' seconds')"
   ]
  },
  {
   "cell_type": "code",
   "execution_count": 27,
   "metadata": {},
   "outputs": [
    {
     "data": {
      "text/plain": [
       "multilevel_solver\n",
       "Number of Levels:     6\n",
       "Operator Complexity:  1.573\n",
       "Grid Complexity:      1.123\n",
       "Coarse Solver:        'pinv2'\n",
       "  level   unknowns     nonzeros\n",
       "    0     64000000    447040000 [63.59%]\n",
       "    1      7731493    244080963 [34.72%]\n",
       "    2       167960     11786858 [ 1.68%]\n",
       "    3         1627       108071 [ 0.02%]\n",
       "    4           21          409 [ 0.00%]\n",
       "    5            1            1 [ 0.00%]"
      ]
     },
     "execution_count": 27,
     "metadata": {},
     "output_type": "execute_result"
    }
   ],
   "source": [
    "ml"
   ]
  },
  {
   "cell_type": "code",
   "execution_count": 30,
   "metadata": {},
   "outputs": [
    {
     "name": "stdout",
     "output_type": "stream",
     "text": [
      "0.13179339468479156 seconds\n",
      "0.1051749587059021 seconds\n",
      "0.0036995112895965576 seconds\n",
      "8.744373917579651e-05 seconds\n",
      "3.0178576707839966e-05 seconds\n",
      "2.7876347303390503e-05 seconds\n"
     ]
    }
   ],
   "source": [
    "for i in range(len(ml.levels)):\n",
    "    A = ml.levels[i].A\n",
    "    v = np.random.rand(A.shape[0])\n",
    "    t0 = timer()\n",
    "    w = A * v\n",
    "    t1 = timer()\n",
    "    print(t1 - t0, \"seconds\")"
   ]
  },
  {
   "cell_type": "code",
   "execution_count": 31,
   "metadata": {},
   "outputs": [
    {
     "name": "stdout",
     "output_type": "stream",
     "text": [
      "2.4414535984396935 seconds\n",
      "1.9934331364929676 seconds\n",
      "0.15189167112112045 seconds\n",
      "0.004616264253854752 seconds\n",
      "0.004179149866104126 seconds\n",
      "0.004165146499872208 seconds\n"
     ]
    }
   ],
   "source": [
    "for i in range(len(ml.levels)):\n",
    "    t0 = timer()\n",
    "    B = ml.levels[i].A.copy()\n",
    "    w = A * v\n",
    "    t1 = timer()\n",
    "    print(t1 - t0, \"seconds\")"
   ]
  },
  {
   "cell_type": "code",
   "execution_count": 40,
   "metadata": {},
   "outputs": [
    {
     "name": "stdout",
     "output_type": "stream",
     "text": [
      "0.001399170607328415  seconds\n"
     ]
    }
   ],
   "source": [
    "t0 = timer()\n",
    "for i in range(len(ml.levels)):\n",
    "    ml.levels[i].A = mycsr(ml.levels[i].A)\n",
    "    if hasattr(ml.levels[i], 'P'):\n",
    "        ml.levels[i].P = mycsr(ml.levels[i].P)\n",
    "    if hasattr(ml.levels[i], 'R'):\n",
    "        ml.levels[i].R = mycsr(ml.levels[i].R)\n",
    "t1 = timer()\n",
    "print(t1-t0, ' seconds')"
   ]
  },
  {
   "cell_type": "code",
   "execution_count": 41,
   "metadata": {},
   "outputs": [
    {
     "name": "stdout",
     "output_type": "stream",
     "text": [
      "82.09879674762487  seconds\n"
     ]
    }
   ],
   "source": [
    "t0 = timer()\n",
    "x = ml.solve(b, x0=x0, maxiter=10)\n",
    "t1 = timer()\n",
    "print(t1-t0, ' seconds')"
   ]
  },
  {
   "cell_type": "code",
   "execution_count": null,
   "metadata": {},
   "outputs": [],
   "source": []
  }
 ],
 "metadata": {
  "kernelspec": {
   "display_name": "Python 3",
   "language": "python",
   "name": "python3"
  },
  "language_info": {
   "codemirror_mode": {
    "name": "ipython",
    "version": 3
   },
   "file_extension": ".py",
   "mimetype": "text/x-python",
   "name": "python",
   "nbconvert_exporter": "python",
   "pygments_lexer": "ipython3",
   "version": "3.6.6rc1+"
  }
 },
 "nbformat": 4,
 "nbformat_minor": 2
}
